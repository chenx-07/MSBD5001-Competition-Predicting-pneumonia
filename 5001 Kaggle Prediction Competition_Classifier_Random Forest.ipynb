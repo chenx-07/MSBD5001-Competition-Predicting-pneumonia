{
 "cells": [
  {
   "cell_type": "code",
   "execution_count": 1,
   "id": "d2439d80",
   "metadata": {},
   "outputs": [],
   "source": [
    "import numpy as np\n",
    "import pandas as pd\n",
    "from sklearn import tree\n",
    "from sklearn.neighbors import KNeighborsClassifier\n",
    "from sklearn.ensemble import RandomForestClassifier\n",
    "from sklearn.datasets import make_classification\n",
    "from sklearn.metrics import confusion_matrix\n",
    "from sklearn.metrics import accuracy_score\n",
    "from sklearn.metrics import precision_score\n",
    "from sklearn.metrics import recall_score\n",
    "from sklearn.metrics import f1_score\n",
    "import time\n",
    "\n",
    "# Load dataset\n",
    "TRAINING = \"Data/5001 kaggle/train.csv\"\n",
    "TEST = \"Data/5001 kaggle/test.csv\"\n"
   ]
  },
  {
   "cell_type": "code",
   "execution_count": 2,
   "id": "05856740",
   "metadata": {},
   "outputs": [
    {
     "name": "stdout",
     "output_type": "stream",
     "text": [
      "(87, 13)\n",
      "(59, 12)\n",
      "(87, 12)\n",
      "(87,)\n",
      "(59, 12)\n"
     ]
    }
   ],
   "source": [
    "train_data = pd.read_csv(TRAINING)  # type: pandas.core.frame.DataFrame\n",
    "test_x = pd.read_csv(TEST)\n",
    "print(train_data.shape)  #(87, 13)\n",
    "print(test_x.shape)      #(59, 12)\n",
    "\n",
    "train_x = train_data.iloc[:, :12]  #iloc是坐标，loc需要列名\n",
    "train_y = train_data.iloc[:, 12]\n",
    "print(train_x.shape) #(87, 12)\n",
    "print(train_y.shape) #(87,)\n",
    "print(test_x.shape)\n",
    "# print(train_x.head(5))\n",
    "# print(train_y.head(5))"
   ]
  },
  {
   "cell_type": "markdown",
   "id": "60c21f9b",
   "metadata": {},
   "source": [
    "# Viewing Data"
   ]
  },
  {
   "cell_type": "code",
   "execution_count": 3,
   "id": "fc9eae03",
   "metadata": {},
   "outputs": [
    {
     "data": {
      "text/html": [
       "<div>\n",
       "<style scoped>\n",
       "    .dataframe tbody tr th:only-of-type {\n",
       "        vertical-align: middle;\n",
       "    }\n",
       "\n",
       "    .dataframe tbody tr th {\n",
       "        vertical-align: top;\n",
       "    }\n",
       "\n",
       "    .dataframe thead th {\n",
       "        text-align: right;\n",
       "    }\n",
       "</style>\n",
       "<table border=\"1\" class=\"dataframe\">\n",
       "  <thead>\n",
       "    <tr style=\"text-align: right;\">\n",
       "      <th></th>\n",
       "      <th>id</th>\n",
       "      <th>MO HLADR+ MFI (cells/ul)</th>\n",
       "      <th>Neu CD64+MFI (cells/ul)</th>\n",
       "      <th>CD3+T (cells/ul)</th>\n",
       "      <th>CD8+T (cells/ul)</th>\n",
       "      <th>CD4+T (cells/ul)</th>\n",
       "      <th>NK (cells/ul)</th>\n",
       "      <th>CD19+ (cells/ul)</th>\n",
       "      <th>CD45+ (cells/ul)</th>\n",
       "      <th>Age</th>\n",
       "      <th>Sex 0M1F</th>\n",
       "      <th>Mono CD64+MFI (cells/ul)</th>\n",
       "      <th>label</th>\n",
       "    </tr>\n",
       "  </thead>\n",
       "  <tbody>\n",
       "    <tr>\n",
       "      <th>count</th>\n",
       "      <td>87.000000</td>\n",
       "      <td>86.000000</td>\n",
       "      <td>86.000000</td>\n",
       "      <td>87.000000</td>\n",
       "      <td>87.000000</td>\n",
       "      <td>87.000000</td>\n",
       "      <td>87.000000</td>\n",
       "      <td>87.000000</td>\n",
       "      <td>87.000000</td>\n",
       "      <td>87.000000</td>\n",
       "      <td>87.000000</td>\n",
       "      <td>86.000000</td>\n",
       "      <td>87.000000</td>\n",
       "    </tr>\n",
       "    <tr>\n",
       "      <th>mean</th>\n",
       "      <td>43.000000</td>\n",
       "      <td>1264.244186</td>\n",
       "      <td>290.383721</td>\n",
       "      <td>982.570115</td>\n",
       "      <td>479.340920</td>\n",
       "      <td>494.904023</td>\n",
       "      <td>212.732874</td>\n",
       "      <td>118.780920</td>\n",
       "      <td>1325.096437</td>\n",
       "      <td>40.218391</td>\n",
       "      <td>0.482759</td>\n",
       "      <td>2066.534884</td>\n",
       "      <td>0.333333</td>\n",
       "    </tr>\n",
       "    <tr>\n",
       "      <th>std</th>\n",
       "      <td>25.258662</td>\n",
       "      <td>765.452376</td>\n",
       "      <td>490.283499</td>\n",
       "      <td>617.332545</td>\n",
       "      <td>344.326452</td>\n",
       "      <td>311.836604</td>\n",
       "      <td>173.553264</td>\n",
       "      <td>96.218344</td>\n",
       "      <td>791.602538</td>\n",
       "      <td>10.461919</td>\n",
       "      <td>0.502599</td>\n",
       "      <td>1198.401364</td>\n",
       "      <td>0.474137</td>\n",
       "    </tr>\n",
       "    <tr>\n",
       "      <th>min</th>\n",
       "      <td>0.000000</td>\n",
       "      <td>112.000000</td>\n",
       "      <td>30.000000</td>\n",
       "      <td>74.400000</td>\n",
       "      <td>36.610000</td>\n",
       "      <td>39.590000</td>\n",
       "      <td>0.000000</td>\n",
       "      <td>4.200000</td>\n",
       "      <td>209.250000</td>\n",
       "      <td>19.000000</td>\n",
       "      <td>0.000000</td>\n",
       "      <td>72.000000</td>\n",
       "      <td>0.000000</td>\n",
       "    </tr>\n",
       "    <tr>\n",
       "      <th>25%</th>\n",
       "      <td>21.500000</td>\n",
       "      <td>685.500000</td>\n",
       "      <td>77.500000</td>\n",
       "      <td>549.390000</td>\n",
       "      <td>237.920000</td>\n",
       "      <td>272.745000</td>\n",
       "      <td>78.815000</td>\n",
       "      <td>52.425000</td>\n",
       "      <td>780.615000</td>\n",
       "      <td>33.000000</td>\n",
       "      <td>0.000000</td>\n",
       "      <td>1461.250000</td>\n",
       "      <td>0.000000</td>\n",
       "    </tr>\n",
       "    <tr>\n",
       "      <th>50%</th>\n",
       "      <td>43.000000</td>\n",
       "      <td>1108.500000</td>\n",
       "      <td>124.500000</td>\n",
       "      <td>871.710000</td>\n",
       "      <td>423.270000</td>\n",
       "      <td>459.720000</td>\n",
       "      <td>188.780000</td>\n",
       "      <td>89.790000</td>\n",
       "      <td>1179.270000</td>\n",
       "      <td>41.000000</td>\n",
       "      <td>0.000000</td>\n",
       "      <td>1757.500000</td>\n",
       "      <td>0.000000</td>\n",
       "    </tr>\n",
       "    <tr>\n",
       "      <th>75%</th>\n",
       "      <td>64.500000</td>\n",
       "      <td>1602.250000</td>\n",
       "      <td>244.500000</td>\n",
       "      <td>1268.085000</td>\n",
       "      <td>624.450000</td>\n",
       "      <td>624.360000</td>\n",
       "      <td>262.845000</td>\n",
       "      <td>155.450000</td>\n",
       "      <td>1617.725000</td>\n",
       "      <td>49.500000</td>\n",
       "      <td>1.000000</td>\n",
       "      <td>2238.250000</td>\n",
       "      <td>1.000000</td>\n",
       "    </tr>\n",
       "    <tr>\n",
       "      <th>max</th>\n",
       "      <td>86.000000</td>\n",
       "      <td>4145.000000</td>\n",
       "      <td>3124.000000</td>\n",
       "      <td>3791.230000</td>\n",
       "      <td>2548.100000</td>\n",
       "      <td>1517.810000</td>\n",
       "      <td>878.040000</td>\n",
       "      <td>485.860000</td>\n",
       "      <td>4757.280000</td>\n",
       "      <td>60.000000</td>\n",
       "      <td>1.000000</td>\n",
       "      <td>7515.000000</td>\n",
       "      <td>1.000000</td>\n",
       "    </tr>\n",
       "  </tbody>\n",
       "</table>\n",
       "</div>"
      ],
      "text/plain": [
       "              id  MO HLADR+ MFI (cells/ul)  Neu CD64+MFI (cells/ul)  \\\n",
       "count  87.000000                 86.000000                86.000000   \n",
       "mean   43.000000               1264.244186               290.383721   \n",
       "std    25.258662                765.452376               490.283499   \n",
       "min     0.000000                112.000000                30.000000   \n",
       "25%    21.500000                685.500000                77.500000   \n",
       "50%    43.000000               1108.500000               124.500000   \n",
       "75%    64.500000               1602.250000               244.500000   \n",
       "max    86.000000               4145.000000              3124.000000   \n",
       "\n",
       "       CD3+T (cells/ul)  CD8+T (cells/ul)  CD4+T (cells/ul)  NK (cells/ul)  \\\n",
       "count         87.000000         87.000000         87.000000      87.000000   \n",
       "mean         982.570115        479.340920        494.904023     212.732874   \n",
       "std          617.332545        344.326452        311.836604     173.553264   \n",
       "min           74.400000         36.610000         39.590000       0.000000   \n",
       "25%          549.390000        237.920000        272.745000      78.815000   \n",
       "50%          871.710000        423.270000        459.720000     188.780000   \n",
       "75%         1268.085000        624.450000        624.360000     262.845000   \n",
       "max         3791.230000       2548.100000       1517.810000     878.040000   \n",
       "\n",
       "       CD19+ (cells/ul)  CD45+ (cells/ul)        Age   Sex 0M1F  \\\n",
       "count         87.000000         87.000000  87.000000  87.000000   \n",
       "mean         118.780920       1325.096437  40.218391   0.482759   \n",
       "std           96.218344        791.602538  10.461919   0.502599   \n",
       "min            4.200000        209.250000  19.000000   0.000000   \n",
       "25%           52.425000        780.615000  33.000000   0.000000   \n",
       "50%           89.790000       1179.270000  41.000000   0.000000   \n",
       "75%          155.450000       1617.725000  49.500000   1.000000   \n",
       "max          485.860000       4757.280000  60.000000   1.000000   \n",
       "\n",
       "       Mono CD64+MFI (cells/ul)      label  \n",
       "count                 86.000000  87.000000  \n",
       "mean                2066.534884   0.333333  \n",
       "std                 1198.401364   0.474137  \n",
       "min                   72.000000   0.000000  \n",
       "25%                 1461.250000   0.000000  \n",
       "50%                 1757.500000   0.000000  \n",
       "75%                 2238.250000   1.000000  \n",
       "max                 7515.000000   1.000000  "
      ]
     },
     "execution_count": 3,
     "metadata": {},
     "output_type": "execute_result"
    }
   ],
   "source": [
    "train_data.describe()\n",
    "# train_data[\"label\"].describe()"
   ]
  },
  {
   "cell_type": "code",
   "execution_count": 4,
   "id": "897183db",
   "metadata": {},
   "outputs": [
    {
     "data": {
      "text/plain": [
       "0    58\n",
       "1    29\n",
       "Name: label, dtype: int64"
      ]
     },
     "execution_count": 4,
     "metadata": {},
     "output_type": "execute_result"
    }
   ],
   "source": [
    "# label distribution is unbalance\n",
    "train_data[\"label\"].value_counts()"
   ]
  },
  {
   "cell_type": "markdown",
   "id": "c664b233",
   "metadata": {},
   "source": [
    "# Handling missing data"
   ]
  },
  {
   "cell_type": "markdown",
   "id": "2782a07e",
   "metadata": {},
   "source": [
    "### using mean to fill NaN in training dataset"
   ]
  },
  {
   "cell_type": "code",
   "execution_count": 5,
   "id": "62afc1d8",
   "metadata": {},
   "outputs": [
    {
     "data": {
      "text/plain": [
       "id                          0\n",
       "MO HLADR+ MFI (cells/ul)    1\n",
       "Neu CD64+MFI (cells/ul)     1\n",
       "CD3+T (cells/ul)            0\n",
       "CD8+T (cells/ul)            0\n",
       "CD4+T (cells/ul)            0\n",
       "NK (cells/ul)               0\n",
       "CD19+ (cells/ul)            0\n",
       "CD45+ (cells/ul)            0\n",
       "Age                         0\n",
       "Sex 0M1F                    0\n",
       "Mono CD64+MFI (cells/ul)    1\n",
       "dtype: int64"
      ]
     },
     "execution_count": 5,
     "metadata": {},
     "output_type": "execute_result"
    }
   ],
   "source": [
    "train_x.isnull().sum(axis = 0)"
   ]
  },
  {
   "cell_type": "code",
   "execution_count": 6,
   "id": "4c468b6c",
   "metadata": {},
   "outputs": [],
   "source": [
    "train_x = train_x.fillna(value={\"MO HLADR+ MFI (cells/ul)\": train_x[\"MO HLADR+ MFI (cells/ul)\"].mean(), \"Neu CD64+MFI (cells/ul)\": train_x[\"Neu CD64+MFI (cells/ul)\"].mean(),\"Mono CD64+MFI (cells/ul)\": train_x[\"Mono CD64+MFI (cells/ul)\"].mean()})\n",
    "# 正负样本各自均值填充？"
   ]
  },
  {
   "cell_type": "code",
   "execution_count": 7,
   "id": "e0ea1c29",
   "metadata": {},
   "outputs": [],
   "source": [
    "#train_x.isnull().sum(axis = 0)"
   ]
  },
  {
   "cell_type": "code",
   "execution_count": 8,
   "id": "762fdd8e",
   "metadata": {},
   "outputs": [],
   "source": [
    "# if test set has NaN, use last number to fill in\n",
    "test_x.isnull().sum(axis = 0)\n",
    "test_x = test_x.fillna(method='pad', axis = 0)"
   ]
  },
  {
   "cell_type": "markdown",
   "id": "5a91c923",
   "metadata": {},
   "source": [
    "# Random Forest"
   ]
  },
  {
   "cell_type": "markdown",
   "id": "8d622713",
   "metadata": {},
   "source": [
    "### Modeling"
   ]
  },
  {
   "cell_type": "code",
   "execution_count": 9,
   "id": "afbc05fe",
   "metadata": {},
   "outputs": [
    {
     "name": "stdout",
     "output_type": "stream",
     "text": [
      "(69, 12)\n",
      "(18, 12)\n",
      "(69,)\n",
      "(18,)\n"
     ]
    }
   ],
   "source": [
    "from sklearn.model_selection import train_test_split\n",
    "# 2022/05/11 v1 \n",
    "# use mean to fill NaN in training set\n",
    "# split training set into training set and validation set (80%:20%, accuracy_val: 0.88888, score_test: 0.96551 )\n",
    "x_train, x_val, y_train, y_val = train_test_split(train_x, train_y, test_size=0.2, random_state=100)\n",
    "print(x_train.shape) #(69, 12)\n",
    "print(x_val.shape) #(18, 12)\n",
    "print(y_train.shape) #(69,)\n",
    "print(y_val.shape) #(18,)\n",
    "clf = RandomForestClassifier(n_estimators = 15, max_depth = 5, random_state = 0)#max_features= parameters, criterion = 'gini',\n",
    "\n",
    "# clf = clf.fit(x_train, y_train)\n",
    "# predict_y_val = clf.predict(x_val)\n",
    "# accuracy = accuracy_score(y_val, predict_y_val)\n",
    "# print(\"accuracy in validation set: \", accuracy)\n",
    "\n",
    "#2022/05/11v2 use the whole training set to train(score_test: 0.89655)\n",
    "# clf = clf.fit(train_x, train_y)\n",
    "\n",
    "#2022/05/11v3 use the sample weight 0.4, 0.6 to train the model since unbalance label\n",
    "#2022/05/11v4 RF sample_weight 0.5, 1.   test set item 30=1 (only different to v3 result)\n",
    "w0 = 0.5\n",
    "w1 = 1\n",
    "\n",
    "clf = clf.fit(train_x, train_y, sample_weight= np.array([w0 if r==0 else w1 for r in train_y])) # the whole training set\n",
    "# clf = clf.fit(x_train, y_train, sample_weight= np.array([w0 if r==0 else w1 for r in y_train]))\n",
    "# predict_y_val = clf.predict(x_val)\n",
    "# accuracy = accuracy_score(y_val, predict_y_val)\n",
    "# print(\"accuracy in validation set: \", accuracy)"
   ]
  },
  {
   "cell_type": "markdown",
   "id": "7b1a416c",
   "metadata": {},
   "source": [
    "### prediction"
   ]
  },
  {
   "cell_type": "code",
   "execution_count": 11,
   "id": "a0570c19",
   "metadata": {},
   "outputs": [
    {
     "name": "stdout",
     "output_type": "stream",
     "text": [
      "(59,)\n",
      "59\n"
     ]
    }
   ],
   "source": [
    "predict_y_test=clf.predict(test_x)\n",
    "print(predict_y_test.shape)\n",
    "size = predict_y_test.shape[0]\n",
    "print(size)\n",
    "id = np.arange(size)"
   ]
  },
  {
   "cell_type": "code",
   "execution_count": 10,
   "id": "443048fc",
   "metadata": {},
   "outputs": [],
   "source": [
    "#print(predict_y_val.shape)\n",
    "#print(type(predict_y_val))"
   ]
  },
  {
   "cell_type": "code",
   "execution_count": 12,
   "id": "10c98860",
   "metadata": {},
   "outputs": [],
   "source": [
    "# ##############training set accuracy############\n",
    "# predict_y_train=clf.predict(train_x)\n",
    "# accuracy_train = accuracy_score(train_y, predict_y_train)\n",
    "# print(\"accuracy in validation set: \", accuracy_train)"
   ]
  },
  {
   "cell_type": "code",
   "execution_count": 16,
   "id": "397cf481",
   "metadata": {},
   "outputs": [
    {
     "name": "stdout",
     "output_type": "stream",
     "text": [
      "0    47\n",
      "1    12\n",
      "Name: label, dtype: int64\n"
     ]
    }
   ],
   "source": [
    "output = pd.DataFrame({'id': id, 'label':predict_y_test})\n",
    "print(output['label'].value_counts())"
   ]
  },
  {
   "cell_type": "code",
   "execution_count": 15,
   "id": "0e1245c9",
   "metadata": {},
   "outputs": [],
   "source": [
    "output.to_csv(\"Data/5001 kaggle/output_sample_weight_0511v4.csv\", index = False)"
   ]
  },
  {
   "cell_type": "code",
   "execution_count": null,
   "id": "17d94c2a",
   "metadata": {},
   "outputs": [],
   "source": []
  },
  {
   "cell_type": "code",
   "execution_count": null,
   "id": "845f1d3a",
   "metadata": {},
   "outputs": [],
   "source": []
  }
 ],
 "metadata": {
  "kernelspec": {
   "display_name": "Python 3 (ipykernel)",
   "language": "python",
   "name": "python3"
  },
  "language_info": {
   "codemirror_mode": {
    "name": "ipython",
    "version": 3
   },
   "file_extension": ".py",
   "mimetype": "text/x-python",
   "name": "python",
   "nbconvert_exporter": "python",
   "pygments_lexer": "ipython3",
   "version": "3.7.11"
  }
 },
 "nbformat": 4,
 "nbformat_minor": 5
}
